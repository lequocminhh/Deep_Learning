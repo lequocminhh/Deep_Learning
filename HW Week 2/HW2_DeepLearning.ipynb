{
 "cells": [
  {
   "cell_type": "markdown",
   "id": "2bdb4aba",
   "metadata": {},
   "source": [
    "# Bài 1"
   ]
  },
  {
   "cell_type": "markdown",
   "id": "a639e461",
   "metadata": {},
   "source": [
    "\n",
    "Cho bài toán XOR\n",
    "Implement thuật toán neural network để giải bài toán dùng Pytorch\n"
   ]
  },
  {
   "cell_type": "code",
   "execution_count": 33,
   "id": "5c433789",
   "metadata": {},
   "outputs": [],
   "source": [
    "import torch\n",
    "import torch.nn as nn\n",
    "import torch.optim as optim\n"
   ]
  },
  {
   "cell_type": "code",
   "execution_count": 34,
   "id": "ad87d804",
   "metadata": {},
   "outputs": [],
   "source": [
    "# Input data\n",
    "X = torch.tensor([[0, 0], [0, 1], [1, 0], [1, 1]], dtype=torch.float32)\n",
    "\n",
    "# Labels\n",
    "Y = torch.tensor([[0], [1], [1], [0]], dtype=torch.float32)\n"
   ]
  },
  {
   "cell_type": "code",
   "execution_count": 35,
   "id": "dad1e0ed",
   "metadata": {},
   "outputs": [],
   "source": [
    "class XORModel(nn.Module):\n",
    "    def __init__(self):\n",
    "        super(XORModel, self).__init__()\n",
    "        self.fc1 = nn.Linear(2, 2) \n",
    "        self.fc2 = nn.Linear(2, 1)  \n",
    "    def forward(self, x):\n",
    "        x = torch.sigmoid(self.fc1(x))  \n",
    "        x = torch.sigmoid(self.fc2(x)) \n",
    "        return x\n"
   ]
  },
  {
   "cell_type": "code",
   "execution_count": 36,
   "id": "a5aa882e",
   "metadata": {},
   "outputs": [],
   "source": [
    "model = XORModel()\n",
    "criterion = nn.MSELoss()  # Mean Squared Error loss\n",
    "optimizer = optim.SGD(model.parameters(), lr=0.1)  # Stochastic Gradient Descent optimizer\n"
   ]
  },
  {
   "cell_type": "code",
   "execution_count": 37,
   "id": "c21f33c1",
   "metadata": {},
   "outputs": [
    {
     "name": "stdout",
     "output_type": "stream",
     "text": [
      "Epoch 0, Loss: 0.2572\n",
      "Epoch 1000, Loss: 0.2500\n",
      "Epoch 2000, Loss: 0.2499\n",
      "Epoch 3000, Loss: 0.2499\n",
      "Epoch 4000, Loss: 0.2498\n",
      "Epoch 5000, Loss: 0.2496\n",
      "Epoch 6000, Loss: 0.2491\n",
      "Epoch 7000, Loss: 0.2472\n",
      "Epoch 8000, Loss: 0.2381\n",
      "Epoch 9000, Loss: 0.2111\n",
      "Training complete!\n"
     ]
    }
   ],
   "source": [
    "num_epochs = 10000  # Number of training epochs\n",
    "\n",
    "for epoch in range(num_epochs):\n",
    "    outputs = model(X)\n",
    "    \n",
    "    loss = criterion(outputs, Y)\n",
    "    \n",
    "    optimizer.zero_grad()\n",
    "    loss.backward()\n",
    "    optimizer.step()\n",
    "    \n",
    "    if epoch  % 1000 == 0:\n",
    "        print(f'Epoch {epoch }, Loss: {loss.item():.4f}')\n",
    "\n",
    "print('Training complete!')\n"
   ]
  },
  {
   "cell_type": "code",
   "execution_count": 6,
   "id": "aa97f386",
   "metadata": {},
   "outputs": [
    {
     "name": "stdout",
     "output_type": "stream",
     "text": [
      "Input: [0.0, 0.0], Predicted Output: 0.1287\n",
      "Input: [0.0, 1.0], Predicted Output: 0.8647\n",
      "Input: [1.0, 0.0], Predicted Output: 0.8647\n",
      "Input: [1.0, 1.0], Predicted Output: 0.1570\n"
     ]
    }
   ],
   "source": [
    "with torch.no_grad():\n",
    "    test_input = torch.tensor([[0, 0], [0, 1], [1, 0], [1, 1]], dtype=torch.float32)\n",
    "    predictions = model(test_input)\n",
    "    for i, pred in enumerate(predictions):\n",
    "        print(f\"Input: {test_input[i].tolist()}, Loss =  {pred.item():.4f}\")\n"
   ]
  },
  {
   "cell_type": "markdown",
   "id": "31ad93de",
   "metadata": {},
   "source": [
    "# Bài 2   "
   ]
  },
  {
   "cell_type": "markdown",
   "id": "bc66a7d8",
   "metadata": {},
   "source": [
    "Cho dataset MNIST\n",
    "\n",
    "Implement thuật toán neural network với dữ liệu trên sử dụng Pytorch.\n",
    "\n",
    "Chỉnh learning rate, vẽ đồ thị loss tương ứng.\n",
    "\n",
    "Chia tập train/test tỉ lệ 80/20, tính các chỉ số accuracy, recall, f1-score trên tập test."
   ]
  },
  {
   "cell_type": "code",
   "execution_count": 51,
   "id": "143339ae",
   "metadata": {},
   "outputs": [
    {
     "name": "stdout",
     "output_type": "stream",
     "text": [
      "Epoch 1/10, Loss: 0.5012433598736922\n",
      "Epoch 2/10, Loss: 0.19558051527043183\n",
      "Epoch 3/10, Loss: 0.14137067233771086\n",
      "Epoch 4/10, Loss: 0.11264895973851283\n",
      "Epoch 5/10, Loss: 0.09121726246302327\n",
      "Epoch 6/10, Loss: 0.07935844864882528\n",
      "Epoch 7/10, Loss: 0.06925864955162009\n",
      "Epoch 8/10, Loss: 0.06149179315318664\n",
      "Epoch 9/10, Loss: 0.05267623559742545\n",
      "Epoch 10/10, Loss: 0.0492690567599299\n"
     ]
    },
    {
     "data": {
      "image/png": "[encoded data removed]",
      "text/plain": [
       "<Figure size 720x360 with 1 Axes>"
      ]
     },
     "metadata": {
      "needs_background": "light"
     },
     "output_type": "display_data"
    },
    {
     "name": "stdout",
     "output_type": "stream",
     "text": [
      "Accuracy: 0.9758\n",
      "Recall: 0.9758\n",
      "F1-Score: 0.9758\n"
     ]
    }
   ],
   "source": [
    "import torch\n",
    "import torch.nn as nn\n",
    "import torch.optim as optim\n",
    "import torchvision\n",
    "import torchvision.transforms as transforms\n",
    "import matplotlib.pyplot as plt\n",
    "from sklearn.metrics import accuracy_score, recall_score, f1_score, confusion_matrix\n",
    "import numpy as np\n",
    "\n",
    "torch.manual_seed(42)\n",
    "\n",
    "transform = transforms.Compose([transforms.ToTensor(), transforms.Normalize((0.5,), (0.5,))])\n",
    "\n",
    "trainset = torchvision.datasets.MNIST(root='./data', train=True, download=True, transform=transform)\n",
    "testset = torchvision.datasets.MNIST(root='./data', train=False, download=True, transform=transform)\n",
    "\n",
    "train_size = int(0.8 * len(trainset))\n",
    "test_size = len(trainset) - train_size\n",
    "train_dataset, validation_dataset = torch.utils.data.random_split(trainset, [train_size, test_size])\n",
    "\n",
    "batch_size = 64\n",
    "train_loader = torch.utils.data.DataLoader(train_dataset, batch_size=batch_size, shuffle=True)\n",
    "validation_loader = torch.utils.data.DataLoader(validation_dataset, batch_size=batch_size, shuffle=False)\n",
    "test_loader = torch.utils.data.DataLoader(testset, batch_size=batch_size, shuffle=False)\n",
    "\n",
    "class Net(nn.Module):\n",
    "    def __init__(self):\n",
    "        super(Net, self).__init__()\n",
    "        self.fc1 = nn.Linear(28 * 28, 128)\n",
    "        self.fc2 = nn.Linear(128, 64)\n",
    "        self.fc3 = nn.Linear(64, 10)\n",
    "\n",
    "    def forward(self, x):\n",
    "        x = x.view(-1, 28 * 28)  # Flatten the input\n",
    "        x = torch.relu(self.fc1(x))\n",
    "        x = torch.relu(self.fc2(x))\n",
    "        x = self.fc3(x)\n",
    "        return x\n",
    "\n",
    "model = Net()\n",
    "criterion = nn.CrossEntropyLoss()\n",
    "learning_rate = 0.1 # Adjust the learning rate here\n",
    "optimizer = optim.SGD(model.parameters(), lr=learning_rate)\n",
    "\n",
    "num_epochs = 10\n",
    "train_losses = []\n",
    "\n",
    "for epoch in range(num_epochs):\n",
    "    running_loss = 0.0\n",
    "    for i, data in enumerate(train_loader, 0):\n",
    "        inputs, labels = data\n",
    "        optimizer.zero_grad()\n",
    "        outputs = model(inputs)\n",
    "        loss = criterion(outputs, labels)\n",
    "        loss.backward()\n",
    "        optimizer.step()\n",
    "        running_loss += loss.item()\n",
    "    train_losses.append(running_loss / len(train_loader))\n",
    "    print(f\"Epoch {epoch+1}/{num_epochs}, Loss: {running_loss / len(train_loader)}\")\n",
    "\n",
    "plt.figure(figsize=(10, 5))\n",
    "plt.plot(range(1, num_epochs + 1), train_losses, label='Training Loss', marker='o')\n",
    "plt.xlabel('Epochs')\n",
    "plt.ylabel('Loss')\n",
    "plt.legend()\n",
    "plt.grid(True)\n",
    "plt.show()\n",
    "\n",
    "model.eval()\n",
    "true_labels = []\n",
    "predicted_labels = []\n",
    "\n",
    "with torch.no_grad():\n",
    "    for data in test_loader:\n",
    "        inputs, labels = data\n",
    "        outputs = model(inputs)\n",
    "        _, predicted = torch.max(outputs.data, 1)\n",
    "        true_labels.extend(labels.numpy())\n",
    "        predicted_labels.extend(predicted.numpy())\n",
    "\n",
    "accuracy = accuracy_score(true_labels, predicted_labels)\n",
    "recall = recall_score(true_labels, predicted_labels, average='weighted')\n",
    "f1 = f1_score(true_labels, predicted_labels, average='weighted')\n",
    "\n",
    "print(f\"Accuracy: {accuracy:.4f}\")\n",
    "print(f\"Recall: {recall:.4f}\")\n",
    "print(f\"F1-Score: {f1:.4f}\")\n"
   ]
  },
  {
   "cell_type": "markdown",
   "id": "2b948ef4",
   "metadata": {},
   "source": [
    "# Bài 3"
   ]
  },
  {
   "cell_type": "markdown",
   "id": "4b73e2c9",
   "metadata": {},
   "source": [
    "Tại sao hàm softmax lại dùng exponential function (e) mà không phải số khác như 2, 3 hoặc 4"
   ]
  },
  {
   "cell_type": "markdown",
   "id": "c185e0a9",
   "metadata": {},
   "source": [
    "- Exponential function có giới cận dưới là 0. Điều này có nghĩa là kết quả của hàm softmax luôn là các số không âm. Trong bài toán phân loại, tính chất này đảm bảo rằng kết quả của hàm softmax có thể hiểu là xác suất.\n",
    "\n",
    "- Exponential function giúp đạo hàm đẹp, dễ dàng hơn.Exponentional function có đạo hàm dương =>  có thể được sử dụng để tối ưu hóa các hàm bằng phương pháp gradient descent.\n",
    "\n",
    "- Số e thường được sử dụng vì nó giúp tránh vấn đề số học như overflow và underflow trong quá trình tính toán."
   ]
  },
  {
   "cell_type": "code",
   "execution_count": null,
   "id": "404152fe",
   "metadata": {},
   "outputs": [],
   "source": []
  }
 ],
 "metadata": {
  "kernelspec": {
   "display_name": "Python 3 (ipykernel)",
   "language": "python",
   "name": "python3"
  },
  "language_info": {
   "codemirror_mode": {
    "name": "ipython",
    "version": 3
   },
   "file_extension": ".py",
   "mimetype": "text/x-python",
   "name": "python",
   "nbconvert_exporter": "python",
   "pygments_lexer": "ipython3",
   "version": "3.9.12"
  }
 },
 "nbformat": 4,
 "nbformat_minor": 5
}
