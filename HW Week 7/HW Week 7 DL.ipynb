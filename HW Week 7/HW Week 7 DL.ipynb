{
  "cells": [
    {
      "cell_type": "code",
      "execution_count": 2,
      "metadata": {
        "id": "XlF5xecFY1Pq"
      },
      "outputs": [],
      "source": [
        "import numpy as np\n",
        "import matplotlib.pyplot as plt\n",
        "import os\n",
        "from PIL import Image\n",
        "from torch.utils.data import Dataset\n",
        "import torch.nn as nn\n",
        "import torch\n",
        "import collections\n",
        "from sklearn.model_selection import train_test_split\n",
        "from torch.utils.data import DataLoader"
      ]
    },
    {
      "cell_type": "code",
      "execution_count": 5,
      "metadata": {
        "id": "OShBLpH_cRZV"
      },
      "outputs": [],
      "source": [
        "BOX_PATH = \"/content/drive/MyDrive/data/valid_bboxes.npy\"\n",
        "IMAGE_PATH = \"/content/drive/MyDrive/data/valid_X.npy\"\n",
        "LABEL_PATH = \"/content/drive/MyDrive/data/valid_Y.npy\"\n",
        "SEGMENT_PATH = \"/content/drive/MyDrive/data/valid_seg.npy\"\n",
        "\n",
        "val_boxes = np.load(BOX_PATH)\n",
        "val_segments = np.load(SEGMENT_PATH).reshape(5000, 64, 64)\n",
        "val_images = np.load(IMAGE_PATH)\n",
        "val_labels = np.load(LABEL_PATH)"
      ]
    },
    {
      "cell_type": "code",
      "execution_count": 6,
      "metadata": {
        "id": "fuMaMqbjcIqI"
      },
      "outputs": [],
      "source": [
        "for i in range(5000):\n",
        "  mask_file = str(i) + \"_mask.png\"\n",
        "  image_file = str(i) + \".png\"\n",
        "  img = Image.fromarray(val_images[i].reshape((64,64,3)), 'RGB')\n",
        "  img.save(os.path.join(\"/content/drive/MyDrive/mnist/segment/valid/image/\", image_file))\n",
        "  img = Image.fromarray(val_segments[i].reshape((64,64)))\n",
        "  img.save(os.path.join(\"/content/drive/MyDrive/mnist/segment/valid/mask/\", mask_file))"
      ]
    },
    {
      "cell_type": "code",
      "execution_count": 7,
      "metadata": {
        "id": "0lxrHfycai2l"
      },
      "outputs": [],
      "source": [
        "import os\n",
        "import torch\n",
        "\n",
        "from torchvision.io import read_image\n",
        "from torchvision.ops.boxes import masks_to_boxes\n",
        "from torchvision import tv_tensors\n",
        "from torchvision.transforms.v2 import functional as F\n",
        "\n",
        "\n",
        "class MNISTDataset(torch.utils.data.Dataset):\n",
        "    def __init__(self, root, transforms):\n",
        "        self.root = root\n",
        "        self.transforms = transforms\n",
        "\n",
        "        self.imgs = list(sorted(os.listdir(os.path.join(root, \"image\"))))\n",
        "        self.masks = list(sorted(os.listdir(os.path.join(root, \"mask\"))))\n",
        "\n",
        "    def __getitem__(self, idx):\n",
        "\n",
        "        img_path = os.path.join(self.root, \"image\", self.imgs[idx])\n",
        "        mask_path = os.path.join(self.root, \"mask\", self.masks[idx])\n",
        "        img = read_image(img_path)\n",
        "        mask = read_image(mask_path)\n",
        "        obj_ids = torch.unique(mask)\n",
        "        obj_ids = obj_ids[:-1]\n",
        "        num_objs = len(obj_ids)\n",
        "        masks = (mask == obj_ids[:, None, None]).to(dtype=torch.uint8)\n",
        "\n",
        "        boxes = masks_to_boxes(masks)\n",
        "\n",
        "        labels = torch.ones((num_objs,), dtype=torch.int64)\n",
        "\n",
        "        image_id = idx\n",
        "        area = (boxes[:, 3] - boxes[:, 1]) * (boxes[:, 2] - boxes[:, 0])\n",
        "        iscrowd = torch.zeros((num_objs,), dtype=torch.int64)\n",
        "\n",
        "        img = tv_tensors.Image(img)\n",
        "\n",
        "        target = {}\n",
        "        target[\"boxes\"] = tv_tensors.BoundingBoxes(boxes, format=\"XYXY\", canvas_size=F.get_size(img))\n",
        "        target[\"masks\"] = tv_tensors.Mask(masks)\n",
        "        target[\"labels\"] = labels\n",
        "        target[\"image_id\"] = image_id\n",
        "        target[\"area\"] = area\n",
        "        target[\"iscrowd\"] = iscrowd\n",
        "\n",
        "        if self.transforms is not None:\n",
        "            img, target = self.transforms(img, target)\n",
        "\n",
        "        return img, target\n",
        "\n",
        "    def __len__(self):\n",
        "        return len(self.imgs)"
      ]
    },
    {
      "cell_type": "code",
      "execution_count": 12,
      "metadata": {
        "id": "sLi08fRybMJz"
      },
      "outputs": [],
      "source": [
        "import torchvision\n",
        "from torchvision.models.detection.faster_rcnn import FastRCNNPredictor\n",
        "from torchvision.models.detection.mask_rcnn import MaskRCNNPredictor\n",
        "\n",
        "\n",
        "def get_model_instance_segmentation(num_classes):\n",
        "    model = torchvision.models.detection.maskrcnn_resnet50_fpn(weights=\"DEFAULT\")\n",
        "\n",
        "    in_features = model.roi_heads.box_predictor.cls_score.in_features\n",
        "    # replace the pre-trained head with a new one\n",
        "    model.roi_heads.box_predictor = FastRCNNPredictor(in_features, num_classes)\n",
        "\n",
        "    in_features_mask = model.roi_heads.mask_predictor.conv5_mask.in_channels\n",
        "    hidden_layer = 256\n",
        "    model.roi_heads.mask_predictor = MaskRCNNPredictor(\n",
        "        in_features_mask,\n",
        "        hidden_layer,\n",
        "        num_classes,\n",
        "    )\n",
        "\n",
        "    return model"
      ]
    },
    {
      "cell_type": "code",
      "execution_count": 13,
      "metadata": {
        "colab": {
          "base_uri": "https://localhost:8080/"
        },
        "id": "4vk0TTLQbRM-",
        "outputId": "3659b17a-1f81-4a62-9060-094584fd729b"
      },
      "outputs": [
        {
          "data": {
            "text/plain": [
              "0"
            ]
          },
          "execution_count": 13,
          "metadata": {},
          "output_type": "execute_result"
        }
      ],
      "source": [
        "os.system(\"wget https://raw.githubusercontent.com/pytorch/vision/main/references/detection/engine.py\")\n",
        "os.system(\"wget https://raw.githubusercontent.com/pytorch/vision/main/references/detection/utils.py\")\n",
        "os.system(\"wget https://raw.githubusercontent.com/pytorch/vision/main/references/detection/coco_utils.py\")\n",
        "os.system(\"wget https://raw.githubusercontent.com/pytorch/vision/main/references/detection/coco_eval.py\")\n",
        "os.system(\"wget https://raw.githubusercontent.com/pytorch/vision/main/references/detection/transforms.py\")"
      ]
    },
    {
      "cell_type": "code",
      "execution_count": 14,
      "metadata": {
        "id": "4IR1-27wbWqX"
      },
      "outputs": [],
      "source": [
        "from torchvision.transforms import v2 as T\n",
        "\n",
        "\n",
        "def get_transform(train):\n",
        "    transforms = []\n",
        "    if train:\n",
        "        transforms.append(T.RandomHorizontalFlip(0.5))\n",
        "    transforms.append(T.ToDtype(torch.float, scale=True))\n",
        "    transforms.append(T.ToPureTensor())\n",
        "    return T.Compose(transforms)"
      ]
    },
    {
      "cell_type": "code",
      "execution_count": 15,
      "metadata": {
        "colab": {
          "base_uri": "https://localhost:8080/"
        },
        "id": "_KxnILIobl02",
        "outputId": "5e5cf4f8-940b-492d-c5d1-3992bd970093"
      },
      "outputs": [
        {
          "name": "stderr",
          "output_type": "stream",
          "text": [
            "/usr/local/lib/python3.10/dist-packages/torch/utils/data/dataloader.py:557: UserWarning: This DataLoader will create 4 worker processes in total. Our suggested max number of worker in current system is 2, which is smaller than what this DataLoader is going to create. Please be aware that excessive worker creation might get DataLoader running slow or even freeze, lower the worker number to avoid potential slowness/freeze if necessary.\n",
            "  warnings.warn(_create_warning_msg(\n",
            "Downloading: \"https://download.pytorch.org/models/maskrcnn_resnet50_fpn_coco-bf2d0c1e.pth\" to /root/.cache/torch/hub/checkpoints/maskrcnn_resnet50_fpn_coco-bf2d0c1e.pth\n",
            "100%|██████████| 170M/170M [00:02<00:00, 80.3MB/s]\n"
          ]
        },
        {
          "name": "stdout",
          "output_type": "stream",
          "text": [
            "Epoch: [0]  [   0/2475]  eta: 5:51:42  lr: 0.000010  loss: 4.5940 (4.5940)  loss_classifier: 2.9310 (2.9310)  loss_box_reg: 0.0657 (0.0657)  loss_mask: 1.1850 (1.1850)  loss_objectness: 0.3827 (0.3827)  loss_rpn_box_reg: 0.0297 (0.0297)  time: 8.5263  data: 0.1715  max mem: 1651\n",
            "Epoch: [0]  [ 100/2475]  eta: 0:18:42  lr: 0.000509  loss: 0.9330 (1.4253)  loss_classifier: 0.1371 (0.5157)  loss_box_reg: 0.1190 (0.0979)  loss_mask: 0.6185 (0.7027)  loss_objectness: 0.0309 (0.0860)  loss_rpn_box_reg: 0.0120 (0.0230)  time: 0.3938  data: 0.0098  max mem: 1820\n",
            "Epoch: [0]  [ 200/2475]  eta: 0:16:31  lr: 0.001009  loss: 0.9402 (1.1867)  loss_classifier: 0.1473 (0.3342)  loss_box_reg: 0.1533 (0.1248)  loss_mask: 0.5936 (0.6507)  loss_objectness: 0.0217 (0.0600)  loss_rpn_box_reg: 0.0063 (0.0171)  time: 0.4087  data: 0.0087  max mem: 1820\n",
            "Epoch: [0]  [ 300/2475]  eta: 0:15:34  lr: 0.001508  loss: 1.0562 (1.1292)  loss_classifier: 0.1966 (0.2839)  loss_box_reg: 0.2148 (0.1482)  loss_mask: 0.6217 (0.6358)  loss_objectness: 0.0185 (0.0476)  loss_rpn_box_reg: 0.0041 (0.0138)  time: 0.4249  data: 0.0061  max mem: 1820\n",
            "Epoch: [0]  [ 400/2475]  eta: 0:14:52  lr: 0.002008  loss: 1.1448 (1.1141)  loss_classifier: 0.2227 (0.2618)  loss_box_reg: 0.2648 (0.1647)  loss_mask: 0.6281 (0.6304)  loss_objectness: 0.0190 (0.0445)  loss_rpn_box_reg: 0.0046 (0.0127)  time: 0.4333  data: 0.0075  max mem: 1820\n",
            "Epoch: [0]  [ 500/2475]  eta: 0:14:09  lr: 0.002507  loss: 1.0110 (1.1155)  loss_classifier: 0.1899 (0.2526)  loss_box_reg: 0.2032 (0.1809)  loss_mask: 0.5983 (0.6286)  loss_objectness: 0.0290 (0.0416)  loss_rpn_box_reg: 0.0042 (0.0118)  time: 0.4262  data: 0.0085  max mem: 1820\n",
            "Epoch: [0]  [ 600/2475]  eta: 0:13:26  lr: 0.003007  loss: 1.1265 (1.1123)  loss_classifier: 0.2352 (0.2460)  loss_box_reg: 0.2492 (0.1904)  loss_mask: 0.6201 (0.6265)  loss_objectness: 0.0170 (0.0385)  loss_rpn_box_reg: 0.0039 (0.0110)  time: 0.4325  data: 0.0076  max mem: 1820\n",
            "Epoch: [0]  [ 700/2475]  eta: 0:12:43  lr: 0.003506  loss: 1.1032 (1.1055)  loss_classifier: 0.2045 (0.2390)  loss_box_reg: 0.2368 (0.1933)  loss_mask: 0.6175 (0.6251)  loss_objectness: 0.0203 (0.0375)  loss_rpn_box_reg: 0.0039 (0.0105)  time: 0.4326  data: 0.0089  max mem: 1820\n",
            "Epoch: [0]  [ 800/2475]  eta: 0:12:00  lr: 0.004006  loss: 1.0535 (1.1066)  loss_classifier: 0.1910 (0.2355)  loss_box_reg: 0.2224 (0.1999)  loss_mask: 0.6212 (0.6245)  loss_objectness: 0.0171 (0.0364)  loss_rpn_box_reg: 0.0047 (0.0102)  time: 0.4290  data: 0.0097  max mem: 1820\n",
            "Epoch: [0]  [ 900/2475]  eta: 0:11:18  lr: 0.004505  loss: 1.0497 (1.1079)  loss_classifier: 0.1803 (0.2329)  loss_box_reg: 0.2260 (0.2058)  loss_mask: 0.6167 (0.6238)  loss_objectness: 0.0178 (0.0355)  loss_rpn_box_reg: 0.0038 (0.0098)  time: 0.4272  data: 0.0079  max mem: 1820\n",
            "Epoch: [0]  [1000/2475]  eta: 0:10:34  lr: 0.005000  loss: 1.0174 (1.1028)  loss_classifier: 0.1745 (0.2285)  loss_box_reg: 0.2098 (0.2065)  loss_mask: 0.6109 (0.6234)  loss_objectness: 0.0213 (0.0347)  loss_rpn_box_reg: 0.0051 (0.0096)  time: 0.4302  data: 0.0096  max mem: 1820\n",
            "Epoch: [0]  [1100/2475]  eta: 0:09:51  lr: 0.005000  loss: 1.0426 (1.0982)  loss_classifier: 0.1837 (0.2258)  loss_box_reg: 0.2132 (0.2074)  loss_mask: 0.6151 (0.6222)  loss_objectness: 0.0168 (0.0335)  loss_rpn_box_reg: 0.0036 (0.0093)  time: 0.4244  data: 0.0064  max mem: 1820\n",
            "Epoch: [0]  [1200/2475]  eta: 0:09:08  lr: 0.005000  loss: 1.0501 (1.0948)  loss_classifier: 0.2089 (0.2234)  loss_box_reg: 0.2423 (0.2082)  loss_mask: 0.6167 (0.6216)  loss_objectness: 0.0189 (0.0326)  loss_rpn_box_reg: 0.0038 (0.0090)  time: 0.4374  data: 0.0118  max mem: 1820\n",
            "Epoch: [0]  [1300/2475]  eta: 0:08:25  lr: 0.005000  loss: 1.0691 (1.0943)  loss_classifier: 0.1945 (0.2222)  loss_box_reg: 0.2101 (0.2097)  loss_mask: 0.6070 (0.6211)  loss_objectness: 0.0254 (0.0324)  loss_rpn_box_reg: 0.0040 (0.0089)  time: 0.4249  data: 0.0073  max mem: 1820\n",
            "Epoch: [0]  [1400/2475]  eta: 0:07:42  lr: 0.005000  loss: 1.0958 (1.0932)  loss_classifier: 0.2138 (0.2208)  loss_box_reg: 0.2449 (0.2109)  loss_mask: 0.6035 (0.6205)  loss_objectness: 0.0185 (0.0321)  loss_rpn_box_reg: 0.0048 (0.0089)  time: 0.4337  data: 0.0107  max mem: 1820\n",
            "Epoch: [0]  [1500/2475]  eta: 0:06:59  lr: 0.005000  loss: 1.0644 (1.0898)  loss_classifier: 0.1868 (0.2185)  loss_box_reg: 0.2286 (0.2109)  loss_mask: 0.6249 (0.6203)  loss_objectness: 0.0170 (0.0315)  loss_rpn_box_reg: 0.0041 (0.0087)  time: 0.4268  data: 0.0065  max mem: 1820\n",
            "Epoch: [0]  [1600/2475]  eta: 0:06:16  lr: 0.005000  loss: 1.0906 (1.0871)  loss_classifier: 0.1893 (0.2168)  loss_box_reg: 0.2203 (0.2110)  loss_mask: 0.6237 (0.6200)  loss_objectness: 0.0228 (0.0308)  loss_rpn_box_reg: 0.0050 (0.0085)  time: 0.4301  data: 0.0068  max mem: 1820\n",
            "Epoch: [0]  [1700/2475]  eta: 0:05:33  lr: 0.005000  loss: 1.0330 (1.0852)  loss_classifier: 0.1833 (0.2150)  loss_box_reg: 0.2145 (0.2106)  loss_mask: 0.6108 (0.6197)  loss_objectness: 0.0204 (0.0312)  loss_rpn_box_reg: 0.0041 (0.0086)  time: 0.4278  data: 0.0069  max mem: 1820\n",
            "Epoch: [0]  [1800/2475]  eta: 0:04:50  lr: 0.005000  loss: 1.0631 (1.0819)  loss_classifier: 0.1925 (0.2132)  loss_box_reg: 0.2211 (0.2101)  loss_mask: 0.6122 (0.6195)  loss_objectness: 0.0160 (0.0307)  loss_rpn_box_reg: 0.0038 (0.0085)  time: 0.4316  data: 0.0079  max mem: 1820\n",
            "Epoch: [0]  [1900/2475]  eta: 0:04:07  lr: 0.005000  loss: 1.0608 (1.0795)  loss_classifier: 0.1930 (0.2118)  loss_box_reg: 0.2222 (0.2099)  loss_mask: 0.6242 (0.6193)  loss_objectness: 0.0187 (0.0303)  loss_rpn_box_reg: 0.0040 (0.0084)  time: 0.4302  data: 0.0073  max mem: 1820\n",
            "Epoch: [0]  [2000/2475]  eta: 0:03:24  lr: 0.005000  loss: 1.0143 (1.0764)  loss_classifier: 0.1809 (0.2100)  loss_box_reg: 0.1959 (0.2091)  loss_mask: 0.6170 (0.6192)  loss_objectness: 0.0190 (0.0298)  loss_rpn_box_reg: 0.0061 (0.0083)  time: 0.4273  data: 0.0073  max mem: 1820\n",
            "Epoch: [0]  [2100/2475]  eta: 0:02:41  lr: 0.005000  loss: 1.0456 (1.0760)  loss_classifier: 0.1869 (0.2094)  loss_box_reg: 0.2046 (0.2095)  loss_mask: 0.6186 (0.6191)  loss_objectness: 0.0202 (0.0296)  loss_rpn_box_reg: 0.0037 (0.0082)  time: 0.4270  data: 0.0062  max mem: 1820\n",
            "Epoch: [0]  [2200/2475]  eta: 0:01:58  lr: 0.005000  loss: 1.0629 (1.0740)  loss_classifier: 0.1924 (0.2083)  loss_box_reg: 0.2239 (0.2094)  loss_mask: 0.6144 (0.6187)  loss_objectness: 0.0160 (0.0293)  loss_rpn_box_reg: 0.0045 (0.0081)  time: 0.4315  data: 0.0086  max mem: 1820\n",
            "Epoch: [0]  [2300/2475]  eta: 0:01:15  lr: 0.005000  loss: 1.0316 (1.0721)  loss_classifier: 0.1671 (0.2074)  loss_box_reg: 0.1933 (0.2091)  loss_mask: 0.6042 (0.6182)  loss_objectness: 0.0181 (0.0293)  loss_rpn_box_reg: 0.0041 (0.0081)  time: 0.4277  data: 0.0072  max mem: 1820\n",
            "Epoch: [0]  [2400/2475]  eta: 0:00:32  lr: 0.005000  loss: 1.1250 (1.0727)  loss_classifier: 0.2189 (0.2075)  loss_box_reg: 0.2597 (0.2101)  loss_mask: 0.6133 (0.6181)  loss_objectness: 0.0187 (0.0291)  loss_rpn_box_reg: 0.0059 (0.0080)  time: 0.4352  data: 0.0069  max mem: 1820\n",
            "Epoch: [0]  [2474/2475]  eta: 0:00:00  lr: 0.005000  loss: 1.0513 (1.0724)  loss_classifier: 0.1845 (0.2072)  loss_box_reg: 0.2267 (0.2104)  loss_mask: 0.6203 (0.6180)  loss_objectness: 0.0189 (0.0288)  loss_rpn_box_reg: 0.0040 (0.0080)  time: 0.4317  data: 0.0079  max mem: 1820\n",
            "Epoch: [0] Total time: 0:17:44 (0.4300 s / it)\n",
            "Epoch: [1]  [   0/2475]  eta: 0:27:38  lr: 0.005000  loss: 0.9304 (0.9304)  loss_classifier: 0.1714 (0.1714)  loss_box_reg: 0.1671 (0.1671)  loss_mask: 0.5511 (0.5511)  loss_objectness: 0.0370 (0.0370)  loss_rpn_box_reg: 0.0038 (0.0038)  time: 0.6700  data: 0.2450  max mem: 1820\n",
            "Epoch: [1]  [ 100/2475]  eta: 0:17:09  lr: 0.005000  loss: 1.1243 (1.0681)  loss_classifier: 0.2150 (0.1941)  loss_box_reg: 0.2412 (0.2135)  loss_mask: 0.6299 (0.6221)  loss_objectness: 0.0261 (0.0308)  loss_rpn_box_reg: 0.0045 (0.0076)  time: 0.4296  data: 0.0072  max mem: 1820\n",
            "Epoch: [1]  [ 200/2475]  eta: 0:16:24  lr: 0.005000  loss: 1.0630 (1.0693)  loss_classifier: 0.1882 (0.1947)  loss_box_reg: 0.2125 (0.2166)  loss_mask: 0.6224 (0.6198)  loss_objectness: 0.0208 (0.0306)  loss_rpn_box_reg: 0.0037 (0.0075)  time: 0.4300  data: 0.0076  max mem: 1820\n",
            "Epoch: [1]  [ 300/2475]  eta: 0:15:39  lr: 0.005000  loss: 1.0707 (1.0647)  loss_classifier: 0.1936 (0.1934)  loss_box_reg: 0.2211 (0.2159)  loss_mask: 0.6217 (0.6193)  loss_objectness: 0.0191 (0.0288)  loss_rpn_box_reg: 0.0034 (0.0073)  time: 0.4340  data: 0.0116  max mem: 1820\n",
            "Epoch: [1]  [ 400/2475]  eta: 0:14:56  lr: 0.005000  loss: 1.0396 (1.0602)  loss_classifier: 0.1865 (0.1928)  loss_box_reg: 0.2010 (0.2154)  loss_mask: 0.6199 (0.6182)  loss_objectness: 0.0177 (0.0269)  loss_rpn_box_reg: 0.0035 (0.0069)  time: 0.4294  data: 0.0066  max mem: 1820\n",
            "Epoch: [1]  [ 500/2475]  eta: 0:14:13  lr: 0.005000  loss: 1.0659 (1.0567)  loss_classifier: 0.1921 (0.1918)  loss_box_reg: 0.2167 (0.2146)  loss_mask: 0.6082 (0.6176)  loss_objectness: 0.0224 (0.0258)  loss_rpn_box_reg: 0.0055 (0.0069)  time: 0.4312  data: 0.0090  max mem: 1820\n",
            "Epoch: [1]  [ 600/2475]  eta: 0:13:29  lr: 0.005000  loss: 1.0790 (1.0561)  loss_classifier: 0.1969 (0.1924)  loss_box_reg: 0.2247 (0.2144)  loss_mask: 0.6149 (0.6173)  loss_objectness: 0.0159 (0.0249)  loss_rpn_box_reg: 0.0040 (0.0071)  time: 0.4280  data: 0.0064  max mem: 1820\n",
            "Epoch: [1]  [ 700/2475]  eta: 0:12:46  lr: 0.005000  loss: 1.0987 (1.0557)  loss_classifier: 0.2057 (0.1922)  loss_box_reg: 0.2470 (0.2144)  loss_mask: 0.6146 (0.6166)  loss_objectness: 0.0192 (0.0255)  loss_rpn_box_reg: 0.0026 (0.0071)  time: 0.4383  data: 0.0084  max mem: 1820\n",
            "Epoch: [1]  [ 800/2475]  eta: 0:12:02  lr: 0.005000  loss: 0.9934 (1.0515)  loss_classifier: 0.1843 (0.1911)  loss_box_reg: 0.2026 (0.2124)  loss_mask: 0.6121 (0.6163)  loss_objectness: 0.0145 (0.0248)  loss_rpn_box_reg: 0.0031 (0.0069)  time: 0.4299  data: 0.0078  max mem: 1820\n",
            "Epoch: [1]  [ 900/2475]  eta: 0:11:18  lr: 0.005000  loss: 1.0081 (1.0470)  loss_classifier: 0.1683 (0.1890)  loss_box_reg: 0.1956 (0.2101)  loss_mask: 0.6140 (0.6158)  loss_objectness: 0.0200 (0.0252)  loss_rpn_box_reg: 0.0049 (0.0070)  time: 0.4273  data: 0.0072  max mem: 1820\n",
            "Epoch: [1]  [1000/2475]  eta: 0:10:35  lr: 0.005000  loss: 1.0201 (1.0449)  loss_classifier: 0.1756 (0.1875)  loss_box_reg: 0.2029 (0.2091)  loss_mask: 0.6212 (0.6163)  loss_objectness: 0.0235 (0.0251)  loss_rpn_box_reg: 0.0044 (0.0069)  time: 0.4282  data: 0.0077  max mem: 1820\n",
            "Epoch: [1]  [1100/2475]  eta: 0:09:52  lr: 0.005000  loss: 1.0471 (1.0435)  loss_classifier: 0.1871 (0.1872)  loss_box_reg: 0.2160 (0.2081)  loss_mask: 0.6167 (0.6157)  loss_objectness: 0.0232 (0.0256)  loss_rpn_box_reg: 0.0050 (0.0069)  time: 0.4320  data: 0.0084  max mem: 1820\n",
            "Epoch: [1]  [1200/2475]  eta: 0:09:09  lr: 0.005000  loss: 0.9861 (1.0412)  loss_classifier: 0.1679 (0.1867)  loss_box_reg: 0.1836 (0.2069)  loss_mask: 0.6083 (0.6150)  loss_objectness: 0.0215 (0.0256)  loss_rpn_box_reg: 0.0035 (0.0069)  time: 0.4252  data: 0.0075  max mem: 1820\n",
            "Epoch: [1]  [1300/2475]  eta: 0:08:26  lr: 0.005000  loss: 1.0750 (1.0418)  loss_classifier: 0.1937 (0.1873)  loss_box_reg: 0.2300 (0.2075)  loss_mask: 0.6202 (0.6150)  loss_objectness: 0.0186 (0.0252)  loss_rpn_box_reg: 0.0037 (0.0068)  time: 0.4339  data: 0.0082  max mem: 1820\n",
            "Epoch: [1]  [1400/2475]  eta: 0:07:43  lr: 0.005000  loss: 1.0228 (1.0415)  loss_classifier: 0.1789 (0.1874)  loss_box_reg: 0.2037 (0.2071)  loss_mask: 0.6052 (0.6148)  loss_objectness: 0.0238 (0.0253)  loss_rpn_box_reg: 0.0051 (0.0069)  time: 0.4309  data: 0.0105  max mem: 1820\n",
            "Epoch: [1]  [1500/2475]  eta: 0:07:00  lr: 0.005000  loss: 1.0821 (1.0415)  loss_classifier: 0.2020 (0.1876)  loss_box_reg: 0.2225 (0.2070)  loss_mask: 0.6190 (0.6146)  loss_objectness: 0.0236 (0.0253)  loss_rpn_box_reg: 0.0049 (0.0070)  time: 0.4313  data: 0.0071  max mem: 1820\n",
            "Epoch: [1]  [1600/2475]  eta: 0:06:17  lr: 0.005000  loss: 1.0785 (1.0419)  loss_classifier: 0.2023 (0.1880)  loss_box_reg: 0.2318 (0.2073)  loss_mask: 0.6230 (0.6146)  loss_objectness: 0.0186 (0.0250)  loss_rpn_box_reg: 0.0039 (0.0070)  time: 0.4337  data: 0.0079  max mem: 1820\n",
            "Epoch: [1]  [1700/2475]  eta: 0:05:34  lr: 0.005000  loss: 1.0049 (1.0423)  loss_classifier: 0.1723 (0.1883)  loss_box_reg: 0.1854 (0.2074)  loss_mask: 0.6219 (0.6145)  loss_objectness: 0.0169 (0.0252)  loss_rpn_box_reg: 0.0025 (0.0070)  time: 0.4274  data: 0.0065  max mem: 1820\n",
            "Epoch: [1]  [1800/2475]  eta: 0:04:51  lr: 0.005000  loss: 1.0501 (1.0424)  loss_classifier: 0.1863 (0.1885)  loss_box_reg: 0.2102 (0.2073)  loss_mask: 0.6130 (0.6144)  loss_objectness: 0.0200 (0.0252)  loss_rpn_box_reg: 0.0039 (0.0070)  time: 0.4346  data: 0.0087  max mem: 1820\n",
            "Epoch: [1]  [1900/2475]  eta: 0:04:08  lr: 0.005000  loss: 1.1258 (1.0429)  loss_classifier: 0.2029 (0.1886)  loss_box_reg: 0.2517 (0.2074)  loss_mask: 0.6194 (0.6145)  loss_objectness: 0.0189 (0.0254)  loss_rpn_box_reg: 0.0038 (0.0071)  time: 0.4339  data: 0.0066  max mem: 1820\n",
            "Epoch: [1]  [2000/2475]  eta: 0:03:25  lr: 0.005000  loss: 1.0151 (1.0435)  loss_classifier: 0.1793 (0.1890)  loss_box_reg: 0.1903 (0.2081)  loss_mask: 0.6207 (0.6143)  loss_objectness: 0.0181 (0.0251)  loss_rpn_box_reg: 0.0034 (0.0070)  time: 0.4543  data: 0.0142  max mem: 1820\n",
            "Epoch: [1]  [2100/2475]  eta: 0:02:41  lr: 0.005000  loss: 1.0241 (1.0430)  loss_classifier: 0.1906 (0.1888)  loss_box_reg: 0.2148 (0.2080)  loss_mask: 0.6064 (0.6143)  loss_objectness: 0.0180 (0.0249)  loss_rpn_box_reg: 0.0043 (0.0069)  time: 0.4325  data: 0.0078  max mem: 1820\n",
            "Epoch: [1]  [2200/2475]  eta: 0:01:58  lr: 0.005000  loss: 1.0870 (1.0416)  loss_classifier: 0.1936 (0.1885)  loss_box_reg: 0.2253 (0.2074)  loss_mask: 0.6177 (0.6141)  loss_objectness: 0.0196 (0.0248)  loss_rpn_box_reg: 0.0036 (0.0069)  time: 0.4379  data: 0.0107  max mem: 1820\n",
            "Epoch: [1]  [2300/2475]  eta: 0:01:15  lr: 0.005000  loss: 1.0254 (1.0406)  loss_classifier: 0.1870 (0.1880)  loss_box_reg: 0.1932 (0.2068)  loss_mask: 0.6201 (0.6141)  loss_objectness: 0.0184 (0.0249)  loss_rpn_box_reg: 0.0041 (0.0069)  time: 0.4306  data: 0.0093  max mem: 1820\n",
            "Epoch: [1]  [2400/2475]  eta: 0:00:32  lr: 0.005000  loss: 0.9617 (1.0401)  loss_classifier: 0.1662 (0.1877)  loss_box_reg: 0.1728 (0.2065)  loss_mask: 0.6063 (0.6140)  loss_objectness: 0.0234 (0.0250)  loss_rpn_box_reg: 0.0048 (0.0069)  time: 0.4243  data: 0.0070  max mem: 1820\n",
            "Epoch: [1]  [2474/2475]  eta: 0:00:00  lr: 0.005000  loss: 1.0841 (1.0410)  loss_classifier: 0.2005 (0.1880)  loss_box_reg: 0.2392 (0.2069)  loss_mask: 0.6134 (0.6142)  loss_objectness: 0.0206 (0.0250)  loss_rpn_box_reg: 0.0038 (0.0069)  time: 0.4320  data: 0.0086  max mem: 1820\n",
            "Epoch: [1] Total time: 0:17:49 (0.4319 s / it)\n"
          ]
        }
      ],
      "source": [
        "from engine import train_one_epoch, evaluate\n",
        "import utils\n",
        "device = torch.device('cuda') if torch.cuda.is_available() else torch.device('cpu')\n",
        "\n",
        "num_classes = 10\n",
        "dataset = MNISTDataset('/content/drive/MyDrive/mnist/segment', get_transform(train=True))\n",
        "dataset_test = MNISTDataset('/content/drive/MyDrive/mnist/segment/valid', get_transform(train=False))\n",
        "\n",
        "indices = torch.randperm(len(dataset)).tolist()\n",
        "dataset = torch.utils.data.Subset(dataset, indices[:-50])\n",
        "dataset_test = torch.utils.data.Subset(dataset_test, indices[-50:])\n",
        "\n",
        "data_loader = torch.utils.data.DataLoader(\n",
        "    dataset,\n",
        "    batch_size=2,\n",
        "    shuffle=True,\n",
        "    num_workers=4,\n",
        "    collate_fn=utils.collate_fn\n",
        ")\n",
        "\n",
        "data_loader_test = torch.utils.data.DataLoader(\n",
        "    dataset_test,\n",
        "    batch_size=1,\n",
        "    shuffle=False,\n",
        "    num_workers=4,\n",
        "    collate_fn=utils.collate_fn\n",
        ")\n",
        "\n",
        "model = get_model_instance_segmentation(num_classes)\n",
        "\n",
        "model.to(device)\n",
        "\n",
        "params = [p for p in model.parameters() if p.requires_grad]\n",
        "optimizer = torch.optim.SGD(\n",
        "    params,\n",
        "    lr=0.005,\n",
        "    momentum=0.9,\n",
        "    weight_decay=0.0005\n",
        ")\n",
        "\n",
        "lr_scheduler = torch.optim.lr_scheduler.StepLR(\n",
        "    optimizer,\n",
        "    step_size=3,\n",
        "    gamma=0.1\n",
        ")\n",
        "num_epochs = 2\n",
        "\n",
        "for epoch in range(num_epochs):\n",
        "    train_one_epoch(model, optimizer, data_loader, device, epoch, print_freq=100)\n",
        "    lr_scheduler.step()\n",
        "\n"
      ]
    },
    {
      "cell_type": "code",
      "execution_count": 16,
      "metadata": {
        "colab": {
          "base_uri": "https://localhost:8080/",
          "height": 1000
        },
        "id": "DUpevI8Vd6xy",
        "outputId": "c9c9c37d-b89b-4e89-d6e2-348cd11751f6"
      },
      "outputs": [
        {
          "data": {
            "text/plain": [
              "<matplotlib.image.AxesImage at 0x7ea24d75a230>"
            ]
          },
          "execution_count": 16,
          "metadata": {},
          "output_type": "execute_result"
        },
        {
          "data": {
            "image/png": "[encoded data removed]",
            "text/plain": [
              "<Figure size 1200x1200 with 1 Axes>"
            ]
          },
          "metadata": {},
          "output_type": "display_data"
        }
      ],
      "source": [
        "import matplotlib.pyplot as plt\n",
        "from torchvision.utils import draw_bounding_boxes, draw_segmentation_masks\n",
        "\n",
        "image = read_image(\"/content/drive/MyDrive/mnist/segment/valid/image/1.png\")\n",
        "eval_transform = get_transform(train=False)\n",
        "\n",
        "model.eval()\n",
        "with torch.no_grad():\n",
        "    x = eval_transform(image)\n",
        "    x = x.to(device)\n",
        "    predictions = model([x, ])\n",
        "    pred = predictions[0]\n",
        "\n",
        "image = (255.0 * (image - image.min()) / (image.max() - image.min())).to(torch.uint8)\n",
        "image = image[:3, ...]\n",
        "pred_labels = [f\"{score:.3f}\" for label, score in zip(pred[\"labels\"], pred[\"scores\"])]\n",
        "\n",
        "\n",
        "masks = (pred[\"masks\"] > 0.9).squeeze(1)\n",
        "output_image = draw_segmentation_masks(image, masks, alpha=0.0, colors=\"blue\")\n",
        "\n",
        "plt.figure(figsize=(12, 12))\n",
        "plt.imshow(output_image.permute(1, 2, 0))"
      ]
    }
  ],
  "metadata": {
    "accelerator": "GPU",
    "colab": {
      "gpuType": "T4",
      "provenance": []
    },
    "kernelspec": {
      "display_name": "Python 3",
      "name": "python3"
    },
    "language_info": {
      "name": "python"
    }
  },
  "nbformat": 4,
  "nbformat_minor": 0
}
